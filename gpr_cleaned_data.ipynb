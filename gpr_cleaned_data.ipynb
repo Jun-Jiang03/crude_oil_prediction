{
 "cells": [
  {
   "cell_type": "code",
   "execution_count": 1,
   "metadata": {},
   "outputs": [],
   "source": [
    "import pandas as pd\n",
    "from pathlib import Path"
   ]
  },
  {
   "cell_type": "code",
   "execution_count": 2,
   "metadata": {},
   "outputs": [],
   "source": [
    "gpr = Path(\"data_gpr_export.xls\")\n",
    "gpr_df = pd.read_excel(gpr)"
   ]
  },
  {
   "cell_type": "code",
   "execution_count": 3,
   "metadata": {},
   "outputs": [
    {
     "data": {
      "text/html": [
       "<div>\n",
       "<style scoped>\n",
       "    .dataframe tbody tr th:only-of-type {\n",
       "        vertical-align: middle;\n",
       "    }\n",
       "\n",
       "    .dataframe tbody tr th {\n",
       "        vertical-align: top;\n",
       "    }\n",
       "\n",
       "    .dataframe thead th {\n",
       "        text-align: right;\n",
       "    }\n",
       "</style>\n",
       "<table border=\"1\" class=\"dataframe\">\n",
       "  <thead>\n",
       "    <tr style=\"text-align: right;\">\n",
       "      <th></th>\n",
       "      <th>month</th>\n",
       "      <th>GPR</th>\n",
       "      <th>GPRT</th>\n",
       "      <th>GPRA</th>\n",
       "      <th>GPRH</th>\n",
       "      <th>GPRHT</th>\n",
       "      <th>GPRHA</th>\n",
       "      <th>SHARE_GPR</th>\n",
       "      <th>N10</th>\n",
       "      <th>SHARE_GPRH</th>\n",
       "      <th>...</th>\n",
       "      <th>GPRHC_TUN</th>\n",
       "      <th>GPRHC_TUR</th>\n",
       "      <th>GPRHC_TWN</th>\n",
       "      <th>GPRHC_UKR</th>\n",
       "      <th>GPRHC_USA</th>\n",
       "      <th>GPRHC_VEN</th>\n",
       "      <th>GPRHC_VNM</th>\n",
       "      <th>GPRHC_ZAF</th>\n",
       "      <th>var_name</th>\n",
       "      <th>var_label</th>\n",
       "    </tr>\n",
       "  </thead>\n",
       "  <tbody>\n",
       "    <tr>\n",
       "      <th>0</th>\n",
       "      <td>1900-01-01</td>\n",
       "      <td>NaN</td>\n",
       "      <td>NaN</td>\n",
       "      <td>NaN</td>\n",
       "      <td>87.927849</td>\n",
       "      <td>64.717491</td>\n",
       "      <td>110.453522</td>\n",
       "      <td>NaN</td>\n",
       "      <td>NaN</td>\n",
       "      <td>3.171932</td>\n",
       "      <td>...</td>\n",
       "      <td>0.0</td>\n",
       "      <td>0.038840</td>\n",
       "      <td>0.0</td>\n",
       "      <td>0.0</td>\n",
       "      <td>2.718799</td>\n",
       "      <td>0.051787</td>\n",
       "      <td>0.012947</td>\n",
       "      <td>1.152253</td>\n",
       "      <td>month</td>\n",
       "      <td>Date (year/month)</td>\n",
       "    </tr>\n",
       "    <tr>\n",
       "      <th>1</th>\n",
       "      <td>1900-02-01</td>\n",
       "      <td>NaN</td>\n",
       "      <td>NaN</td>\n",
       "      <td>NaN</td>\n",
       "      <td>86.566490</td>\n",
       "      <td>71.936844</td>\n",
       "      <td>96.250488</td>\n",
       "      <td>NaN</td>\n",
       "      <td>NaN</td>\n",
       "      <td>3.122822</td>\n",
       "      <td>...</td>\n",
       "      <td>0.0</td>\n",
       "      <td>0.125471</td>\n",
       "      <td>0.0</td>\n",
       "      <td>0.0</td>\n",
       "      <td>2.732469</td>\n",
       "      <td>0.027882</td>\n",
       "      <td>0.000000</td>\n",
       "      <td>1.143176</td>\n",
       "      <td>GPR</td>\n",
       "      <td>Recent GPR (Index: 1985:2019=100)</td>\n",
       "    </tr>\n",
       "    <tr>\n",
       "      <th>2</th>\n",
       "      <td>1900-03-01</td>\n",
       "      <td>NaN</td>\n",
       "      <td>NaN</td>\n",
       "      <td>NaN</td>\n",
       "      <td>72.140701</td>\n",
       "      <td>57.475853</td>\n",
       "      <td>84.499428</td>\n",
       "      <td>NaN</td>\n",
       "      <td>NaN</td>\n",
       "      <td>2.602422</td>\n",
       "      <td>...</td>\n",
       "      <td>0.0</td>\n",
       "      <td>0.180366</td>\n",
       "      <td>0.0</td>\n",
       "      <td>0.0</td>\n",
       "      <td>2.151507</td>\n",
       "      <td>0.025767</td>\n",
       "      <td>0.000000</td>\n",
       "      <td>0.863180</td>\n",
       "      <td>GPRT</td>\n",
       "      <td>Recent GPR Threats (Index: 1985:2019=100)</td>\n",
       "    </tr>\n",
       "    <tr>\n",
       "      <th>3</th>\n",
       "      <td>1900-04-01</td>\n",
       "      <td>NaN</td>\n",
       "      <td>NaN</td>\n",
       "      <td>NaN</td>\n",
       "      <td>54.419449</td>\n",
       "      <td>37.326603</td>\n",
       "      <td>65.858208</td>\n",
       "      <td>NaN</td>\n",
       "      <td>NaN</td>\n",
       "      <td>1.963141</td>\n",
       "      <td>...</td>\n",
       "      <td>0.0</td>\n",
       "      <td>0.066774</td>\n",
       "      <td>0.0</td>\n",
       "      <td>0.0</td>\n",
       "      <td>1.776175</td>\n",
       "      <td>0.000000</td>\n",
       "      <td>0.000000</td>\n",
       "      <td>0.641026</td>\n",
       "      <td>GPRA</td>\n",
       "      <td>Recent GPR Acts (Index: 1985:2019=100)</td>\n",
       "    </tr>\n",
       "    <tr>\n",
       "      <th>4</th>\n",
       "      <td>1900-05-01</td>\n",
       "      <td>NaN</td>\n",
       "      <td>NaN</td>\n",
       "      <td>NaN</td>\n",
       "      <td>64.405197</td>\n",
       "      <td>48.200008</td>\n",
       "      <td>74.373955</td>\n",
       "      <td>NaN</td>\n",
       "      <td>NaN</td>\n",
       "      <td>2.323370</td>\n",
       "      <td>...</td>\n",
       "      <td>0.0</td>\n",
       "      <td>0.081522</td>\n",
       "      <td>0.0</td>\n",
       "      <td>0.0</td>\n",
       "      <td>1.970109</td>\n",
       "      <td>0.013587</td>\n",
       "      <td>0.000000</td>\n",
       "      <td>0.788043</td>\n",
       "      <td>GPRH</td>\n",
       "      <td>Historical GPR (Index: 1900:2019=100)</td>\n",
       "    </tr>\n",
       "  </tbody>\n",
       "</table>\n",
       "<p>5 rows × 115 columns</p>\n",
       "</div>"
      ],
      "text/plain": [
       "       month  GPR  GPRT  GPRA       GPRH      GPRHT       GPRHA  SHARE_GPR  \\\n",
       "0 1900-01-01  NaN   NaN   NaN  87.927849  64.717491  110.453522        NaN   \n",
       "1 1900-02-01  NaN   NaN   NaN  86.566490  71.936844   96.250488        NaN   \n",
       "2 1900-03-01  NaN   NaN   NaN  72.140701  57.475853   84.499428        NaN   \n",
       "3 1900-04-01  NaN   NaN   NaN  54.419449  37.326603   65.858208        NaN   \n",
       "4 1900-05-01  NaN   NaN   NaN  64.405197  48.200008   74.373955        NaN   \n",
       "\n",
       "   N10  SHARE_GPRH  ...  GPRHC_TUN  GPRHC_TUR  GPRHC_TWN  GPRHC_UKR  \\\n",
       "0  NaN    3.171932  ...        0.0   0.038840        0.0        0.0   \n",
       "1  NaN    3.122822  ...        0.0   0.125471        0.0        0.0   \n",
       "2  NaN    2.602422  ...        0.0   0.180366        0.0        0.0   \n",
       "3  NaN    1.963141  ...        0.0   0.066774        0.0        0.0   \n",
       "4  NaN    2.323370  ...        0.0   0.081522        0.0        0.0   \n",
       "\n",
       "   GPRHC_USA  GPRHC_VEN  GPRHC_VNM  GPRHC_ZAF  var_name  \\\n",
       "0   2.718799   0.051787   0.012947   1.152253     month   \n",
       "1   2.732469   0.027882   0.000000   1.143176       GPR   \n",
       "2   2.151507   0.025767   0.000000   0.863180      GPRT   \n",
       "3   1.776175   0.000000   0.000000   0.641026      GPRA   \n",
       "4   1.970109   0.013587   0.000000   0.788043      GPRH   \n",
       "\n",
       "                                   var_label  \n",
       "0                          Date (year/month)  \n",
       "1          Recent GPR (Index: 1985:2019=100)  \n",
       "2  Recent GPR Threats (Index: 1985:2019=100)  \n",
       "3     Recent GPR Acts (Index: 1985:2019=100)  \n",
       "4      Historical GPR (Index: 1900:2019=100)  \n",
       "\n",
       "[5 rows x 115 columns]"
      ]
     },
     "execution_count": 3,
     "metadata": {},
     "output_type": "execute_result"
    }
   ],
   "source": [
    "gpr_df.head()"
   ]
  },
  {
   "cell_type": "code",
   "execution_count": 4,
   "metadata": {},
   "outputs": [
    {
     "data": {
      "text/html": [
       "<div>\n",
       "<style scoped>\n",
       "    .dataframe tbody tr th:only-of-type {\n",
       "        vertical-align: middle;\n",
       "    }\n",
       "\n",
       "    .dataframe tbody tr th {\n",
       "        vertical-align: top;\n",
       "    }\n",
       "\n",
       "    .dataframe thead th {\n",
       "        text-align: right;\n",
       "    }\n",
       "</style>\n",
       "<table border=\"1\" class=\"dataframe\">\n",
       "  <thead>\n",
       "    <tr style=\"text-align: right;\">\n",
       "      <th></th>\n",
       "      <th>month</th>\n",
       "      <th>GPR</th>\n",
       "      <th>GPRT</th>\n",
       "      <th>GPRA</th>\n",
       "      <th>GPRC_CAN</th>\n",
       "      <th>GPRC_USA</th>\n",
       "    </tr>\n",
       "  </thead>\n",
       "  <tbody>\n",
       "    <tr>\n",
       "      <th>0</th>\n",
       "      <td>1900-01-01</td>\n",
       "      <td>NaN</td>\n",
       "      <td>NaN</td>\n",
       "      <td>NaN</td>\n",
       "      <td>NaN</td>\n",
       "      <td>NaN</td>\n",
       "    </tr>\n",
       "    <tr>\n",
       "      <th>1</th>\n",
       "      <td>1900-02-01</td>\n",
       "      <td>NaN</td>\n",
       "      <td>NaN</td>\n",
       "      <td>NaN</td>\n",
       "      <td>NaN</td>\n",
       "      <td>NaN</td>\n",
       "    </tr>\n",
       "    <tr>\n",
       "      <th>2</th>\n",
       "      <td>1900-03-01</td>\n",
       "      <td>NaN</td>\n",
       "      <td>NaN</td>\n",
       "      <td>NaN</td>\n",
       "      <td>NaN</td>\n",
       "      <td>NaN</td>\n",
       "    </tr>\n",
       "    <tr>\n",
       "      <th>3</th>\n",
       "      <td>1900-04-01</td>\n",
       "      <td>NaN</td>\n",
       "      <td>NaN</td>\n",
       "      <td>NaN</td>\n",
       "      <td>NaN</td>\n",
       "      <td>NaN</td>\n",
       "    </tr>\n",
       "    <tr>\n",
       "      <th>4</th>\n",
       "      <td>1900-05-01</td>\n",
       "      <td>NaN</td>\n",
       "      <td>NaN</td>\n",
       "      <td>NaN</td>\n",
       "      <td>NaN</td>\n",
       "      <td>NaN</td>\n",
       "    </tr>\n",
       "  </tbody>\n",
       "</table>\n",
       "</div>"
      ],
      "text/plain": [
       "       month  GPR  GPRT  GPRA  GPRC_CAN  GPRC_USA\n",
       "0 1900-01-01  NaN   NaN   NaN       NaN       NaN\n",
       "1 1900-02-01  NaN   NaN   NaN       NaN       NaN\n",
       "2 1900-03-01  NaN   NaN   NaN       NaN       NaN\n",
       "3 1900-04-01  NaN   NaN   NaN       NaN       NaN\n",
       "4 1900-05-01  NaN   NaN   NaN       NaN       NaN"
      ]
     },
     "execution_count": 4,
     "metadata": {},
     "output_type": "execute_result"
    }
   ],
   "source": [
    "gpr_df = gpr_df[[\"month\",\"GPR\",\"GPRT\",\"GPRA\",\"GPRC_CAN\",\"GPRC_USA\"]]\n",
    "gpr_df.head()"
   ]
  },
  {
   "cell_type": "code",
   "execution_count": 5,
   "metadata": {},
   "outputs": [
    {
     "data": {
      "text/plain": [
       "True"
      ]
     },
     "execution_count": 5,
     "metadata": {},
     "output_type": "execute_result"
    }
   ],
   "source": [
    "#check for null values\n",
    "gpr_df.isnull().values.any()"
   ]
  },
  {
   "cell_type": "code",
   "execution_count": 6,
   "metadata": {},
   "outputs": [
    {
     "data": {
      "text/html": [
       "<div>\n",
       "<style scoped>\n",
       "    .dataframe tbody tr th:only-of-type {\n",
       "        vertical-align: middle;\n",
       "    }\n",
       "\n",
       "    .dataframe tbody tr th {\n",
       "        vertical-align: top;\n",
       "    }\n",
       "\n",
       "    .dataframe thead th {\n",
       "        text-align: right;\n",
       "    }\n",
       "</style>\n",
       "<table border=\"1\" class=\"dataframe\">\n",
       "  <thead>\n",
       "    <tr style=\"text-align: right;\">\n",
       "      <th></th>\n",
       "      <th>month</th>\n",
       "      <th>GPR</th>\n",
       "      <th>GPRT</th>\n",
       "      <th>GPRA</th>\n",
       "      <th>GPRC_CAN</th>\n",
       "      <th>GPRC_USA</th>\n",
       "    </tr>\n",
       "  </thead>\n",
       "  <tbody>\n",
       "    <tr>\n",
       "      <th>0</th>\n",
       "      <td>1985-01-01</td>\n",
       "      <td>102.173378</td>\n",
       "      <td>107.574173</td>\n",
       "      <td>89.647491</td>\n",
       "      <td>0.405732</td>\n",
       "      <td>2.572514</td>\n",
       "    </tr>\n",
       "    <tr>\n",
       "      <th>1</th>\n",
       "      <td>1985-02-01</td>\n",
       "      <td>117.102020</td>\n",
       "      <td>126.442726</td>\n",
       "      <td>96.601669</td>\n",
       "      <td>0.452907</td>\n",
       "      <td>2.856086</td>\n",
       "    </tr>\n",
       "    <tr>\n",
       "      <th>2</th>\n",
       "      <td>1985-03-01</td>\n",
       "      <td>124.778152</td>\n",
       "      <td>127.070854</td>\n",
       "      <td>116.987274</td>\n",
       "      <td>0.593931</td>\n",
       "      <td>2.945245</td>\n",
       "    </tr>\n",
       "    <tr>\n",
       "      <th>3</th>\n",
       "      <td>1985-04-01</td>\n",
       "      <td>87.929001</td>\n",
       "      <td>94.640198</td>\n",
       "      <td>73.757797</td>\n",
       "      <td>0.343321</td>\n",
       "      <td>1.997503</td>\n",
       "    </tr>\n",
       "    <tr>\n",
       "      <th>4</th>\n",
       "      <td>1985-05-01</td>\n",
       "      <td>103.262848</td>\n",
       "      <td>111.159782</td>\n",
       "      <td>92.276726</td>\n",
       "      <td>0.425962</td>\n",
       "      <td>2.389719</td>\n",
       "    </tr>\n",
       "  </tbody>\n",
       "</table>\n",
       "</div>"
      ],
      "text/plain": [
       "       month         GPR        GPRT        GPRA  GPRC_CAN  GPRC_USA\n",
       "0 1985-01-01  102.173378  107.574173   89.647491  0.405732  2.572514\n",
       "1 1985-02-01  117.102020  126.442726   96.601669  0.452907  2.856086\n",
       "2 1985-03-01  124.778152  127.070854  116.987274  0.593931  2.945245\n",
       "3 1985-04-01   87.929001   94.640198   73.757797  0.343321  1.997503\n",
       "4 1985-05-01  103.262848  111.159782   92.276726  0.425962  2.389719"
      ]
     },
     "execution_count": 6,
     "metadata": {},
     "output_type": "execute_result"
    }
   ],
   "source": [
    "# Convert 'month' column to datetime format\n",
    "gpr_df[\"month\"] = pd.to_datetime(gpr_df[\"month\"])\n",
    "\n",
    "# Filter out rows where 'month' is before 1985-01-01\n",
    "gpr_df = gpr_df[gpr_df[\"month\"] >= \"1985-01-01\"]\n",
    "\n",
    "# Reset index (optional, to start from 0)\n",
    "gpr_df.reset_index(drop=True, inplace=True)\n",
    "\n",
    "gpr_df.head()"
   ]
  },
  {
   "cell_type": "code",
   "execution_count": 7,
   "metadata": {},
   "outputs": [
    {
     "data": {
      "text/plain": [
       "month       481\n",
       "GPR         481\n",
       "GPRT        481\n",
       "GPRA        481\n",
       "GPRC_CAN    481\n",
       "GPRC_USA    481\n",
       "dtype: int64"
      ]
     },
     "execution_count": 7,
     "metadata": {},
     "output_type": "execute_result"
    }
   ],
   "source": [
    "gpr_df.count()"
   ]
  },
  {
   "cell_type": "code",
   "execution_count": 8,
   "metadata": {},
   "outputs": [
    {
     "data": {
      "text/plain": [
       "False"
      ]
     },
     "execution_count": 8,
     "metadata": {},
     "output_type": "execute_result"
    }
   ],
   "source": [
    "#check for null values\n",
    "gpr_df.isnull().values.any()"
   ]
  },
  {
   "cell_type": "code",
   "execution_count": 9,
   "metadata": {},
   "outputs": [
    {
     "data": {
      "text/plain": [
       "pandas.core.frame.DataFrame"
      ]
     },
     "execution_count": 9,
     "metadata": {},
     "output_type": "execute_result"
    }
   ],
   "source": [
    "type(gpr_df)"
   ]
  },
  {
   "cell_type": "code",
   "execution_count": 10,
   "metadata": {},
   "outputs": [
    {
     "data": {
      "text/html": [
       "<div>\n",
       "<style scoped>\n",
       "    .dataframe tbody tr th:only-of-type {\n",
       "        vertical-align: middle;\n",
       "    }\n",
       "\n",
       "    .dataframe tbody tr th {\n",
       "        vertical-align: top;\n",
       "    }\n",
       "\n",
       "    .dataframe thead th {\n",
       "        text-align: right;\n",
       "    }\n",
       "</style>\n",
       "<table border=\"1\" class=\"dataframe\">\n",
       "  <thead>\n",
       "    <tr style=\"text-align: right;\">\n",
       "      <th></th>\n",
       "      <th>month</th>\n",
       "      <th>GPR</th>\n",
       "      <th>GPRT</th>\n",
       "      <th>GPRA</th>\n",
       "      <th>GPRC_CAN</th>\n",
       "      <th>GPRC_USA</th>\n",
       "    </tr>\n",
       "  </thead>\n",
       "  <tbody>\n",
       "    <tr>\n",
       "      <th>0</th>\n",
       "      <td>1985-01-01</td>\n",
       "      <td>102.17</td>\n",
       "      <td>107.57</td>\n",
       "      <td>89.65</td>\n",
       "      <td>0.41</td>\n",
       "      <td>2.57</td>\n",
       "    </tr>\n",
       "    <tr>\n",
       "      <th>1</th>\n",
       "      <td>1985-02-01</td>\n",
       "      <td>117.10</td>\n",
       "      <td>126.44</td>\n",
       "      <td>96.60</td>\n",
       "      <td>0.45</td>\n",
       "      <td>2.86</td>\n",
       "    </tr>\n",
       "    <tr>\n",
       "      <th>2</th>\n",
       "      <td>1985-03-01</td>\n",
       "      <td>124.78</td>\n",
       "      <td>127.07</td>\n",
       "      <td>116.99</td>\n",
       "      <td>0.59</td>\n",
       "      <td>2.95</td>\n",
       "    </tr>\n",
       "    <tr>\n",
       "      <th>3</th>\n",
       "      <td>1985-04-01</td>\n",
       "      <td>87.93</td>\n",
       "      <td>94.64</td>\n",
       "      <td>73.76</td>\n",
       "      <td>0.34</td>\n",
       "      <td>2.00</td>\n",
       "    </tr>\n",
       "    <tr>\n",
       "      <th>4</th>\n",
       "      <td>1985-05-01</td>\n",
       "      <td>103.26</td>\n",
       "      <td>111.16</td>\n",
       "      <td>92.28</td>\n",
       "      <td>0.43</td>\n",
       "      <td>2.39</td>\n",
       "    </tr>\n",
       "  </tbody>\n",
       "</table>\n",
       "</div>"
      ],
      "text/plain": [
       "       month     GPR    GPRT    GPRA  GPRC_CAN  GPRC_USA\n",
       "0 1985-01-01  102.17  107.57   89.65      0.41      2.57\n",
       "1 1985-02-01  117.10  126.44   96.60      0.45      2.86\n",
       "2 1985-03-01  124.78  127.07  116.99      0.59      2.95\n",
       "3 1985-04-01   87.93   94.64   73.76      0.34      2.00\n",
       "4 1985-05-01  103.26  111.16   92.28      0.43      2.39"
      ]
     },
     "execution_count": 10,
     "metadata": {},
     "output_type": "execute_result"
    }
   ],
   "source": [
    "gpr_df[[\"GPR\",\"GPRT\",\"GPRA\",\"GPRC_CAN\",\"GPRC_USA\"]] = gpr_df[[\"GPR\",\"GPRT\",\"GPRA\",\"GPRC_CAN\",\"GPRC_USA\"]].round(2)\n",
    "gpr_df.head()"
   ]
  },
  {
   "cell_type": "code",
   "execution_count": 11,
   "metadata": {},
   "outputs": [
    {
     "data": {
      "text/plain": [
       "False"
      ]
     },
     "execution_count": 11,
     "metadata": {},
     "output_type": "execute_result"
    }
   ],
   "source": [
    "#check for null values\n",
    "gpr_df.isnull().values.any()"
   ]
  },
  {
   "cell_type": "code",
   "execution_count": 12,
   "metadata": {},
   "outputs": [
    {
     "data": {
      "text/plain": [
       "month       datetime64[ns]\n",
       "GPR                float64\n",
       "GPRT               float64\n",
       "GPRA               float64\n",
       "GPRC_CAN           float64\n",
       "GPRC_USA           float64\n",
       "dtype: object"
      ]
     },
     "execution_count": 12,
     "metadata": {},
     "output_type": "execute_result"
    }
   ],
   "source": [
    "gpr_df.dtypes"
   ]
  }
 ],
 "metadata": {
  "kernelspec": {
   "display_name": "dev",
   "language": "python",
   "name": "python3"
  },
  "language_info": {
   "codemirror_mode": {
    "name": "ipython",
    "version": 3
   },
   "file_extension": ".py",
   "mimetype": "text/x-python",
   "name": "python",
   "nbconvert_exporter": "python",
   "pygments_lexer": "ipython3",
   "version": "3.10.14"
  }
 },
 "nbformat": 4,
 "nbformat_minor": 2
}
